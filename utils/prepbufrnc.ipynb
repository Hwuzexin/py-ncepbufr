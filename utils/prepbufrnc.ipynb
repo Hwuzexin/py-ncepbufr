{
 "cells": [
  {
   "cell_type": "code",
   "execution_count": 1,
   "metadata": {
    "collapsed": false
   },
   "outputs": [
    {
     "name": "stdout",
     "output_type": "stream",
     "text": [
      "netcdf prepbufr_2015102700 {\r\n",
      "dimensions:\r\n",
      "\thdrinfo = 8 ;\r\n",
      "\tobinfo = 14 ;\r\n",
      "\toeinfo = 6 ;\r\n",
      "\tqcinfo = 7 ;\r\n",
      "\tnobs = UNLIMITED ; // (706521 currently)\r\n",
      "\tnmsgs = 8136 ;\r\n",
      "\tdiaginfo = 6 ;\r\n",
      "\tensdiaginfo = 6 ;\r\n",
      "variables:\r\n",
      "\tdouble header(nobs, hdrinfo) ;\r\n",
      "\t\theader:_FillValue = 99999997952. ;\r\n",
      "\t\theader:desc = \"observation header data\" ;\r\n",
      "\t\theader:SID = \"STATION IDENTIFICATION\" ;\r\n",
      "\t\theader:XOB = \"LONGITUDE (DEG E)\" ;\r\n",
      "\t\theader:YOB = \"LATITUDE (DEG N)\" ;\r\n",
      "\t\theader:DHR = \"OBSERVATION TIME MINUS CYCLE TIME (HOURS)\" ;\r\n",
      "\t\theader:TYP = \"PREPBUFR REPORT TYPE\" ;\r\n",
      "\t\theader:ELV = \"STATION ELEVATION (M)\" ;\r\n",
      "\t\theader:SAID = \"SATELLITE IDENTIFIER (SATELLITE REPORTS ONLY)\" ;\r\n",
      "\t\theader:T29 = \"DATA DUMP REPORT TYPE\" ;\r\n",
      "\t\theader:hdrinfo = \"SID XOB YOB DHR TYP ELV SAID T29\" ;\r\n",
      "\tstring obid(nobs) ;\r\n",
      "\t\tobid:desc = \"observation id (station id/type code/lon/lat/time/elevation/pressure)\" ;\r\n",
      "\tfloat obdata(nobs, obinfo) ;\r\n",
      "\t\tobdata:_FillValue = 1.e+11f ;\r\n",
      "\t\tobdata:POB = \"PRESSURE OBSERVATION (MB)\" ;\r\n",
      "\t\tobdata:QOB = \"SPECIFIC HUMIDITY OBSERVATION (MG/KG)\" ;\r\n",
      "\t\tobdata:TOB = \"TEMPERATURE OBSERVATION (DEGREES C)\" ;\r\n",
      "\t\tobdata:ZOB = \"HEIGHT OBSERVATION (M)\" ;\r\n",
      "\t\tobdata:UOB = \"U-COMPONENT WIND OBSERVATION (M/S)\" ;\r\n",
      "\t\tobdata:VOB = \"V-COMPONENT WIND OBSERVATION (M/S)\" ;\r\n",
      "\t\tobdata:PWO = \"TOTAL PRECIPITABLE WATER OBSERVATION (MM)\" ;\r\n",
      "\t\tobdata:CAT = \"PREPBUFR DATA LEVEL CATEGORY\" ;\r\n",
      "\t\tobdata:PRSS = \"SURFACE PRESSURE OBSERVATION (PASCALS)\" ;\r\n",
      "\t\tobdata:TDO = \"DEWPOINT TEMPERATURE OBSERVATION (NOT ASSIMILATED, DEGREES C)\" ;\r\n",
      "\t\tobdata:PMO = \"MEAN SEA-LEVEL PRESSURE OBSERVATION (MB)\" ;\r\n",
      "\t\tobdata:XDR = \"PROFILE LEVEL LON (FOR RAOB/PIBAL BASED ON BALLOON DFT, DEG E)\" ;\r\n",
      "\t\tobdata:YDR = \"PROFILE LEVEL LAT (FOR RAOB/PIBAL BASED ON BALLOON DFT, DEG N)\" ;\r\n",
      "\t\tobdata:HRDR = \"PROFILE LVL TIME-CYCLE (FOR RAOB/PIBAL, BASED ON B DFT, HOURS)\" ;\r\n",
      "\t\tobdata:obinfo = \"POB QOB TOB ZOB UOB VOB PWO CAT PRSS TDO PMO XDR YDR HRDR\" ;\r\n",
      "\t\tobdata:desc = \"observation data\" ;\r\n",
      "\tfloat oberr(nobs, oeinfo) ;\r\n",
      "\t\toberr:_FillValue = 1.e+11f ;\r\n",
      "\t\toberr:POE = \"PRESSURE OBSERVATION ERROR (MB)\" ;\r\n",
      "\t\toberr:QOE = \"RELATIVE HUMIDITY OBSERVATION ERROR (PERCENT DIVIDED BY 10)\" ;\r\n",
      "\t\toberr:TOE = \"TEMPERATURE OBSERVATION ERROR (DEGREES C)\" ;\r\n",
      "\t\toberr:ZOE = \"HEIGHT OBSERVATION ERROR (M)\" ;\r\n",
      "\t\toberr:WOE = \"WIND OBSERVATION ERROR (M/S)\" ;\r\n",
      "\t\toberr:PWE = \"TOTAL PRECIPITABLE WATER OBSERVATION ERROR (MM)\" ;\r\n",
      "\t\toberr:oeinfo = \"POE QOE TOE ZOE WOE PWE\" ;\r\n",
      "\t\toberr:desc = \"observation error data\" ;\r\n",
      "\tubyte qcdata(nobs, qcinfo) ;\r\n",
      "\t\tqcdata:_FillValue = 255UB ;\r\n",
      "\t\tqcdata:PQM = \"PRESSURE (QUALITY) MARKER\" ;\r\n",
      "\t\tqcdata:QQM = \"SPECIFIC HUMIDITY (QUALITY) MARKER\" ;\r\n",
      "\t\tqcdata:TQM = \"TEMPERATURE (QUALITY) MARKER\" ;\r\n",
      "\t\tqcdata:ZQM = \"HEIGHT (QUALITY) MARKER\" ;\r\n",
      "\t\tqcdata:WQM = \"U-, V-COMPONENT WIND (UOB/VOB) (QUALITY) MARKER\" ;\r\n",
      "\t\tqcdata:PWQ = \"TOTAL PRECIPITABLE WATER (QUALITY) MARKER\" ;\r\n",
      "\t\tqcdata:PMQ = \"MEAN SEA-LVL PRESSURE (QUALITY) MARKER\" ;\r\n",
      "\t\tqcdata:qcinfo = \"PQM QQM TQM ZQM WQM PWQ PMQ\" ;\r\n",
      "\t\tqcdata:desc = \"observation QC data\" ;\r\n",
      "\tuint msgnum(nobs) ;\r\n",
      "\t\tmsgnum:desc = \"bufr message number\" ;\r\n",
      "\tushort subsetnum(nobs) ;\r\n",
      "\t\tsubsetnum:desc = \"subset number within bufr message\" ;\r\n",
      "\tstring msgtype(nmsgs) ;\r\n",
      "\t\tmsgtype:desc = \"bufr message type\" ;\r\n",
      "\tuint msgdate(nmsgs) ;\r\n",
      "\t\tmsgdate:desc = \"bufr message date\" ;\r\n",
      "\tfloat gsianldata(nobs, diaginfo) ;\r\n",
      "\t\tgsianldata:_FillValue = 1.e+11f ;\r\n",
      "\t\tgsianldata:QOB = \"SPECIFIC HUMIDITY OBSERVATION (MG/KG)\" ;\r\n",
      "\t\tgsianldata:TOB = \"TEMPERATURE OBSERVATION (DEGREES C)\" ;\r\n",
      "\t\tgsianldata:UOB = \"U-COMPONENT WIND OBSERVATION (M/S)\" ;\r\n",
      "\t\tgsianldata:VOB = \"V-COMPONENT WIND OBSERVATION (M/S)\" ;\r\n",
      "\t\tgsianldata:PRSS = \"SURFACE PRESSURE OBSERVATION (PASCALS)\" ;\r\n",
      "\t\tgsianldata:PWO = \"TOTAL PRECIPITABLE WATER OBSERVATION (MM)\" ;\r\n",
      "\t\tgsianldata:diaginfo = \"QOB TOB UOB VOB PRSS PWO\" ;\r\n",
      "\t\tgsianldata:desc = \"gsi analysis data (model analysis in observation space)\" ;\r\n",
      "\tfloat gsigesdata(nobs, diaginfo) ;\r\n",
      "\t\tgsigesdata:_FillValue = 1.e+11f ;\r\n",
      "\t\tgsigesdata:QOB = \"SPECIFIC HUMIDITY OBSERVATION (MG/KG)\" ;\r\n",
      "\t\tgsigesdata:TOB = \"TEMPERATURE OBSERVATION (DEGREES C)\" ;\r\n",
      "\t\tgsigesdata:UOB = \"U-COMPONENT WIND OBSERVATION (M/S)\" ;\r\n",
      "\t\tgsigesdata:VOB = \"V-COMPONENT WIND OBSERVATION (M/S)\" ;\r\n",
      "\t\tgsigesdata:PRSS = \"SURFACE PRESSURE OBSERVATION (PASCALS)\" ;\r\n",
      "\t\tgsigesdata:PWO = \"TOTAL PRECIPITABLE WATER OBSERVATION (MM)\" ;\r\n",
      "\t\tgsigesdata:diaginfo = \"QOB TOB UOB VOB PRSS PWO\" ;\r\n",
      "\t\tgsigesdata:desc = \"gsi guess data (model guess in observation space)\" ;\r\n",
      "\tfloat gsierr(nobs, diaginfo) ;\r\n",
      "\t\tgsierr:_FillValue = 1.e+11f ;\r\n",
      "\t\tgsierr:QOE = \"RELATIVE HUMIDITY OBSERVATION ERROR (PERCENT DIVIDED BY 10)\" ;\r\n",
      "\t\tgsierr:TOE = \"TEMPERATURE OBSERVATION ERROR (DEGREES C)\" ;\r\n",
      "\t\tgsierr:UOE = \"U-COMPONENT WIND OBSERVATION ERROR (M/S)\" ;\r\n",
      "\t\tgsierr:VOE = \"V-COMPONENT WIND OBSERVATION ERROR (M/S)\" ;\r\n",
      "\t\tgsierr:POE = \"PRESSURE OBSERVATION ERROR (MB)\" ;\r\n",
      "\t\tgsierr:PWE = \"TOTAL PRECIPITABLE WATER OBSERVATION ERROR (MM)\" ;\r\n",
      "\t\tgsierr:diaginfo = \"QOE TOE UOE VOE POE PWE\" ;\r\n",
      "\t\tgsierr:desc = \"observation errors used by GSI\" ;\r\n",
      "\tubyte gsiqc(nobs, diaginfo) ;\r\n",
      "\t\tgsiqc:_FillValue = 255UB ;\r\n",
      "\t\tgsiqc:QQM = \"SPECIFIC HUMIDITY (QUALITY) MARKER\" ;\r\n",
      "\t\tgsiqc:TQM = \"TEMPERATURE (QUALITY) MARKER\" ;\r\n",
      "\t\tgsiqc:UQM = \"U-COMPONENT WIND QUALITY MARKER\" ;\r\n",
      "\t\tgsiqc:VQM = \"V-COMPONENT WIND QUALITY MARKER\" ;\r\n",
      "\t\tgsiqc:PQM = \"PRESSURE (QUALITY) MARKER\" ;\r\n",
      "\t\tgsiqc:PWQ = \"TOTAL PRECIPITABLE WATER (QUALITY) MARKER\" ;\r\n",
      "\t\tgsiqc:diaginfo = \"QQM TQM UQM VQM PQM PWQ\" ;\r\n",
      "\t\tgsiqc:desc = \"gsi QC flags (1: used, 0: not used)\" ;\r\n",
      "\tfloat gsi_ensstd(nobs, ensdiaginfo) ;\r\n",
      "\t\tgsi_ensstd:_FillValue = 1.e+11f ;\r\n",
      "\t\tgsi_ensstd:ensdiaginfo = \"QOB TOB UOB VOB PRSS PWO\" ;\r\n",
      "\t\tgsi_ensstd:desc = \"gsi guess ensemble standard deviation\" ;\r\n",
      "}\r\n"
     ]
    }
   ],
   "source": [
    "from netCDF4 import Dataset\n",
    "import numpy as np\n",
    "# ob type, code and level to read\n",
    "obtype = 'T'  # temp obs\n",
    "obcode = 120  # radiosondes\n",
    "level = 850.  # 850 hPa\n",
    "# look at contents of file\n",
    "!ncdump -h prepbufr_2015102700.nc"
   ]
  },
  {
   "cell_type": "code",
   "execution_count": 2,
   "metadata": {
    "collapsed": false
   },
   "outputs": [
    {
     "name": "stdout",
     "output_type": "stream",
     "text": [
      "number of obs selected =  636\n"
     ]
    }
   ],
   "source": [
    "# open file\n",
    "nc = Dataset('prepbufr_2015102700.nc')\n",
    "# read data\n",
    "header = nc.variables['header'][:]\n",
    "press = nc.variables['obdata'][:,0]      # pressure is 1st column of obdata variable (see ncdump above)\n",
    "obs = nc.variables['obdata'][:,2]        # T observation is 3rd column of obdata\n",
    "bufrerr = nc.variables['oberr'][:,2]     # T ob error is 3rd column of oberr\n",
    "gsiges = nc.variables['gsigesdata'][:,1] # T guess value is 2nd column of gsigesdata\n",
    "gsianl = nc.variables['gsianldata'][:,1] # T anal value is 2nd column of gsianldata\n",
    "enssprd = nc.variables['gsi_ensstd'][:,1]# T ens spread is 2nd column of gsi_ensstd\n",
    "used = (nc.variables['gsiqc'][:,1]).astype('bool') # 2nd column of gsiqc is GSI used flag for T ob\n",
    "# find indices corresponding to specified obcode, pressure level\n",
    "idx = np.argwhere( \\\n",
    "   np.logical_and( header[:,4] == obcode, \\\n",
    "   np.abs(level-press) <= 1.0) \\\n",
    "   ).squeeze()\n",
    "idx = np.compress(used[idx],idx) # only select obs used by GSI\n",
    "print 'number of obs selected = ',len(idx)"
   ]
  },
  {
   "cell_type": "code",
   "execution_count": 3,
   "metadata": {
    "collapsed": false
   },
   "outputs": [
    {
     "name": "stdout",
     "output_type": "stream",
     "text": [
      "RMS ges departure 1.14930534363\n",
      "expected ges departure 0.934834463619\n",
      "RMS anl departure 0.832568228245\n"
     ]
    }
   ],
   "source": [
    "# calculate RMS O-F, O-A and expected value of RMS O-F based on ensemble statistics\n",
    "print 'RMS ges departure',np.sqrt(np.mean( (obs-gsiges)[idx]**2 ))\n",
    "print 'expected ges departure',np.sqrt(np.mean( (enssprd**2+bufrerr**2)[idx] ))\n",
    "print 'RMS anl departure',np.sqrt(np.mean( (obs-gsianl)[idx]**2 ))"
   ]
  }
 ],
 "metadata": {
  "kernelspec": {
   "display_name": "Python 2",
   "language": "python",
   "name": "python2"
  },
  "language_info": {
   "codemirror_mode": {
    "name": "ipython",
    "version": 2
   },
   "file_extension": ".py",
   "mimetype": "text/x-python",
   "name": "python",
   "nbconvert_exporter": "python",
   "pygments_lexer": "ipython2",
   "version": "2.7.11"
  }
 },
 "nbformat": 4,
 "nbformat_minor": 0
}
